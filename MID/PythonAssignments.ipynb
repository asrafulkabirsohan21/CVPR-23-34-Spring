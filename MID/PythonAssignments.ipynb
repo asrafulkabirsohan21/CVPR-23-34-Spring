{
 "cells": [
  {
   "cell_type": "code",
   "execution_count": 6,
   "id": "60c7403b-767f-46cf-8ed9-4d245e268692",
   "metadata": {},
   "outputs": [
    {
     "name": "stdout",
     "output_type": "stream",
     "text": [
      "Sum of all elements in the list: 440\n"
     ]
    }
   ],
   "source": [
    "#list oparetion\n",
    "# Create a list\n",
    "numbers = list(range(1, 11))\n",
    "#square\n",
    "squaredNumbers = [num ** 2 for num in numbers]\n",
    "numbers.extend(squaredNumbers)\n",
    "#print the sum\n",
    "totalSum = sum(numbers)\n",
    "print(\"Sum of all elements in the list:\", totalSum)"
   ]
  },
  {
   "cell_type": "code",
   "execution_count": 2,
   "id": "d4f945bd-a24f-460b-af46-18c1ddc18335",
   "metadata": {},
   "outputs": [
    {
     "name": "stdout",
     "output_type": "stream",
     "text": [
      "Product of all elements in the tuple: 3840\n"
     ]
    }
   ],
   "source": [
    "#tuple create\n",
    "evenNumbersTuple = (2, 4, 6, 8, 10)\n",
    "product = 1\n",
    "#find and print\n",
    "for num in evenNumbersTuple:\n",
    "    product =product * num\n",
    "    \n",
    "print(\"Product of all elements in the tuple:\", product)\n"
   ]
  },
  {
   "cell_type": "code",
   "execution_count": 3,
   "id": "10ea3b43-e993-416d-8e36-44513671e9b0",
   "metadata": {},
   "outputs": [
    {
     "name": "stdout",
     "output_type": "stream",
     "text": [
      "Union of the two sets: {1, 3, 5, 7, 9}\n",
      "Intersection of the two sets: {1, 3, 5, 7, 9}\n"
     ]
    }
   ],
   "source": [
    "#set oparetion\n",
    "# Create two sets\n",
    "oddNumbersSet1 = {1, 3, 5, 7, 9}\n",
    "oddNumbersSet2 = {1, 3, 5, 7, 9}  # Using the same set for illustration, could be different sets\n",
    "\n",
    "# Find print the union \n",
    "unionSet = oddNumbersSet1.union(oddNumbersSet2)\n",
    "print(\"Union of the two sets:\", unionSet)\n",
    "\n",
    "# Find and print the intersection \n",
    "intersectionSet = oddNumbersSet1.intersection(oddNumbersSet2)\n",
    "print(\"Intersection of the two sets:\", intersectionSet)"
   ]
  },
  {
   "cell_type": "code",
   "execution_count": 7,
   "id": "dfe5f55e-f27e-4c9d-88c1-8b8feb30580a",
   "metadata": {},
   "outputs": [
    {
     "name": "stdout",
     "output_type": "stream",
     "text": [
      "Dictionary where keys are the first five lowercase alphabets and values are their respective ASCII values:\n",
      "{'a': 97, 'b': 98, 'c': 99, 'd': 100, 'e': 101}\n"
     ]
    }
   ],
   "source": [
    "#dictionaryOperation\n",
    "\n",
    "#keys are the first five lowercase alphabets and their respective ASCII values\n",
    "alphabetDict = {}\n",
    "for charCode in range(ord('a'), ord('e') + 1):\n",
    "    alphabetDict[chr(charCode)] = charCode\n",
    "    #print\n",
    "print(\"Dictionary where keys are the first five lowercase alphabets and values are their respective ASCII values:\")\n",
    "print(alphabetDict)"
   ]
  },
  {
   "cell_type": "code",
   "execution_count": 9,
   "id": "7acfec2f-9181-4901-b648-afb3655eca4c",
   "metadata": {},
   "outputs": [
    {
     "name": "stdout",
     "output_type": "stream",
     "text": [
      "Result of applying the square function to each element: [1, 4, 9, 16, 25, 36, 49, 64, 81, 100]\n"
     ]
    }
   ],
   "source": [
    "\n",
    "#functional Programming\n",
    "#define function square\n",
    "def square(x):\n",
    "    return x ** 2\n",
    "# map function to apply the square function\n",
    "\n",
    "numbers = list(range(1, 11))\n",
    "squaredNumbers = list(map(square, numbers))\n",
    "\n",
    "print(\"Result of applying the square function to each element:\", squaredNumbers)\n"
   ]
  },
  {
   "cell_type": "code",
   "execution_count": null,
   "id": "42ec423a-20e4-47a4-b7de-5b84950080f7",
   "metadata": {},
   "outputs": [],
   "source": []
  }
 ],
 "metadata": {
  "kernelspec": {
   "display_name": "Python 3 (ipykernel)",
   "language": "python",
   "name": "python3"
  },
  "language_info": {
   "codemirror_mode": {
    "name": "ipython",
    "version": 3
   },
   "file_extension": ".py",
   "mimetype": "text/x-python",
   "name": "python",
   "nbconvert_exporter": "python",
   "pygments_lexer": "ipython3",
   "version": "3.12.1"
  }
 },
 "nbformat": 4,
 "nbformat_minor": 5
}
